{
 "cells": [
  {
   "cell_type": "code",
   "execution_count": 1,
   "metadata": {},
   "outputs": [],
   "source": [
    "import numpy as np\n",
    "import pandas as pd\n",
    "import scipy.stats as st\n",
    "import seaborn as sns\n",
    "import matplotlib.pyplot as plt\n",
    "\n",
    "from permute.core import two_sample"
   ]
  },
  {
   "cell_type": "code",
   "execution_count": 2,
   "metadata": {},
   "outputs": [],
   "source": [
    "data = pd.read_csv('https://raw.githubusercontent.com/Intelligent-Systems-Phystech/psad/master/labs/lab1/data/nba.csv')"
   ]
  },
  {
   "cell_type": "code",
   "execution_count": 3,
   "metadata": {},
   "outputs": [
    {
     "data": {
      "text/html": [
       "<div>\n",
       "<style scoped>\n",
       "    .dataframe tbody tr th:only-of-type {\n",
       "        vertical-align: middle;\n",
       "    }\n",
       "\n",
       "    .dataframe tbody tr th {\n",
       "        vertical-align: top;\n",
       "    }\n",
       "\n",
       "    .dataframe thead th {\n",
       "        text-align: right;\n",
       "    }\n",
       "</style>\n",
       "<table border=\"1\" class=\"dataframe\">\n",
       "  <thead>\n",
       "    <tr style=\"text-align: right;\">\n",
       "      <th></th>\n",
       "      <th>Unnamed: 0</th>\n",
       "      <th>player</th>\n",
       "      <th>team</th>\n",
       "      <th>atm_away</th>\n",
       "      <th>atm_home</th>\n",
       "      <th>score_away</th>\n",
       "      <th>score_home</th>\n",
       "      <th>atm_total</th>\n",
       "      <th>score_total</th>\n",
       "    </tr>\n",
       "  </thead>\n",
       "  <tbody>\n",
       "    <tr>\n",
       "      <th>0</th>\n",
       "      <td>7</td>\n",
       "      <td>A. Johnson</td>\n",
       "      <td>ATL</td>\n",
       "      <td>30</td>\n",
       "      <td>34</td>\n",
       "      <td>24</td>\n",
       "      <td>28</td>\n",
       "      <td>64</td>\n",
       "      <td>52</td>\n",
       "    </tr>\n",
       "    <tr>\n",
       "      <th>1</th>\n",
       "      <td>10</td>\n",
       "      <td>A. Johnson</td>\n",
       "      <td>TOR</td>\n",
       "      <td>63</td>\n",
       "      <td>57</td>\n",
       "      <td>44</td>\n",
       "      <td>38</td>\n",
       "      <td>120</td>\n",
       "      <td>82</td>\n",
       "    </tr>\n",
       "    <tr>\n",
       "      <th>2</th>\n",
       "      <td>15</td>\n",
       "      <td>Abdur-Rahim</td>\n",
       "      <td>SAC</td>\n",
       "      <td>114</td>\n",
       "      <td>124</td>\n",
       "      <td>84</td>\n",
       "      <td>90</td>\n",
       "      <td>238</td>\n",
       "      <td>174</td>\n",
       "    </tr>\n",
       "    <tr>\n",
       "      <th>3</th>\n",
       "      <td>22</td>\n",
       "      <td>Afflalo</td>\n",
       "      <td>DEN</td>\n",
       "      <td>236</td>\n",
       "      <td>284</td>\n",
       "      <td>189</td>\n",
       "      <td>227</td>\n",
       "      <td>520</td>\n",
       "      <td>416</td>\n",
       "    </tr>\n",
       "    <tr>\n",
       "      <th>4</th>\n",
       "      <td>23</td>\n",
       "      <td>Afflalo</td>\n",
       "      <td>DET</td>\n",
       "      <td>75</td>\n",
       "      <td>88</td>\n",
       "      <td>62</td>\n",
       "      <td>67</td>\n",
       "      <td>163</td>\n",
       "      <td>129</td>\n",
       "    </tr>\n",
       "    <tr>\n",
       "      <th>...</th>\n",
       "      <td>...</td>\n",
       "      <td>...</td>\n",
       "      <td>...</td>\n",
       "      <td>...</td>\n",
       "      <td>...</td>\n",
       "      <td>...</td>\n",
       "      <td>...</td>\n",
       "      <td>...</td>\n",
       "      <td>...</td>\n",
       "    </tr>\n",
       "    <tr>\n",
       "      <th>931</th>\n",
       "      <td>1687</td>\n",
       "      <td>Yi</td>\n",
       "      <td>NJN</td>\n",
       "      <td>54</td>\n",
       "      <td>79</td>\n",
       "      <td>44</td>\n",
       "      <td>59</td>\n",
       "      <td>133</td>\n",
       "      <td>103</td>\n",
       "    </tr>\n",
       "    <tr>\n",
       "      <th>932</th>\n",
       "      <td>1688</td>\n",
       "      <td>Yi</td>\n",
       "      <td>WAS</td>\n",
       "      <td>55</td>\n",
       "      <td>36</td>\n",
       "      <td>38</td>\n",
       "      <td>24</td>\n",
       "      <td>91</td>\n",
       "      <td>62</td>\n",
       "    </tr>\n",
       "    <tr>\n",
       "      <th>933</th>\n",
       "      <td>1690</td>\n",
       "      <td>Young</td>\n",
       "      <td>MEM</td>\n",
       "      <td>163</td>\n",
       "      <td>155</td>\n",
       "      <td>130</td>\n",
       "      <td>114</td>\n",
       "      <td>318</td>\n",
       "      <td>244</td>\n",
       "    </tr>\n",
       "    <tr>\n",
       "      <th>934</th>\n",
       "      <td>1691</td>\n",
       "      <td>Young</td>\n",
       "      <td>PHI</td>\n",
       "      <td>406</td>\n",
       "      <td>401</td>\n",
       "      <td>302</td>\n",
       "      <td>285</td>\n",
       "      <td>807</td>\n",
       "      <td>587</td>\n",
       "    </tr>\n",
       "    <tr>\n",
       "      <th>935</th>\n",
       "      <td>1692</td>\n",
       "      <td>Young</td>\n",
       "      <td>WAS</td>\n",
       "      <td>408</td>\n",
       "      <td>397</td>\n",
       "      <td>339</td>\n",
       "      <td>327</td>\n",
       "      <td>805</td>\n",
       "      <td>666</td>\n",
       "    </tr>\n",
       "  </tbody>\n",
       "</table>\n",
       "<p>936 rows × 9 columns</p>\n",
       "</div>"
      ],
      "text/plain": [
       "     Unnamed: 0       player team  atm_away  atm_home  score_away  score_home  \\\n",
       "0             7   A. Johnson  ATL        30        34          24          28   \n",
       "1            10   A. Johnson  TOR        63        57          44          38   \n",
       "2            15  Abdur-Rahim  SAC       114       124          84          90   \n",
       "3            22      Afflalo  DEN       236       284         189         227   \n",
       "4            23      Afflalo  DET        75        88          62          67   \n",
       "..          ...          ...  ...       ...       ...         ...         ...   \n",
       "931        1687           Yi  NJN        54        79          44          59   \n",
       "932        1688           Yi  WAS        55        36          38          24   \n",
       "933        1690        Young  MEM       163       155         130         114   \n",
       "934        1691        Young  PHI       406       401         302         285   \n",
       "935        1692        Young  WAS       408       397         339         327   \n",
       "\n",
       "     atm_total  score_total  \n",
       "0           64           52  \n",
       "1          120           82  \n",
       "2          238          174  \n",
       "3          520          416  \n",
       "4          163          129  \n",
       "..         ...          ...  \n",
       "931        133          103  \n",
       "932         91           62  \n",
       "933        318          244  \n",
       "934        807          587  \n",
       "935        805          666  \n",
       "\n",
       "[936 rows x 9 columns]"
      ]
     },
     "execution_count": 3,
     "metadata": {},
     "output_type": "execute_result"
    }
   ],
   "source": [
    "data"
   ]
  },
  {
   "cell_type": "markdown",
   "metadata": {},
   "source": [
    "Будем сравнивать реализацию бросков дома и в гостях: отношение удачных бросков к общему числу (я так понял слова \"успех бросков\")"
   ]
  },
  {
   "cell_type": "code",
   "execution_count": 4,
   "metadata": {},
   "outputs": [
    {
     "data": {
      "text/html": [
       "<div>\n",
       "<style scoped>\n",
       "    .dataframe tbody tr th:only-of-type {\n",
       "        vertical-align: middle;\n",
       "    }\n",
       "\n",
       "    .dataframe tbody tr th {\n",
       "        vertical-align: top;\n",
       "    }\n",
       "\n",
       "    .dataframe thead th {\n",
       "        text-align: right;\n",
       "    }\n",
       "</style>\n",
       "<table border=\"1\" class=\"dataframe\">\n",
       "  <thead>\n",
       "    <tr style=\"text-align: right;\">\n",
       "      <th></th>\n",
       "      <th>Unnamed: 0</th>\n",
       "      <th>player</th>\n",
       "      <th>team</th>\n",
       "      <th>atm_away</th>\n",
       "      <th>atm_home</th>\n",
       "      <th>score_away</th>\n",
       "      <th>score_home</th>\n",
       "      <th>atm_total</th>\n",
       "      <th>score_total</th>\n",
       "      <th>percent_home</th>\n",
       "      <th>percent_away</th>\n",
       "    </tr>\n",
       "  </thead>\n",
       "  <tbody>\n",
       "    <tr>\n",
       "      <th>0</th>\n",
       "      <td>7</td>\n",
       "      <td>A. Johnson</td>\n",
       "      <td>ATL</td>\n",
       "      <td>30</td>\n",
       "      <td>34</td>\n",
       "      <td>24</td>\n",
       "      <td>28</td>\n",
       "      <td>64</td>\n",
       "      <td>52</td>\n",
       "      <td>0.823529</td>\n",
       "      <td>0.800000</td>\n",
       "    </tr>\n",
       "    <tr>\n",
       "      <th>1</th>\n",
       "      <td>10</td>\n",
       "      <td>A. Johnson</td>\n",
       "      <td>TOR</td>\n",
       "      <td>63</td>\n",
       "      <td>57</td>\n",
       "      <td>44</td>\n",
       "      <td>38</td>\n",
       "      <td>120</td>\n",
       "      <td>82</td>\n",
       "      <td>0.666667</td>\n",
       "      <td>0.698413</td>\n",
       "    </tr>\n",
       "    <tr>\n",
       "      <th>2</th>\n",
       "      <td>15</td>\n",
       "      <td>Abdur-Rahim</td>\n",
       "      <td>SAC</td>\n",
       "      <td>114</td>\n",
       "      <td>124</td>\n",
       "      <td>84</td>\n",
       "      <td>90</td>\n",
       "      <td>238</td>\n",
       "      <td>174</td>\n",
       "      <td>0.725806</td>\n",
       "      <td>0.736842</td>\n",
       "    </tr>\n",
       "    <tr>\n",
       "      <th>3</th>\n",
       "      <td>22</td>\n",
       "      <td>Afflalo</td>\n",
       "      <td>DEN</td>\n",
       "      <td>236</td>\n",
       "      <td>284</td>\n",
       "      <td>189</td>\n",
       "      <td>227</td>\n",
       "      <td>520</td>\n",
       "      <td>416</td>\n",
       "      <td>0.799296</td>\n",
       "      <td>0.800847</td>\n",
       "    </tr>\n",
       "    <tr>\n",
       "      <th>4</th>\n",
       "      <td>23</td>\n",
       "      <td>Afflalo</td>\n",
       "      <td>DET</td>\n",
       "      <td>75</td>\n",
       "      <td>88</td>\n",
       "      <td>62</td>\n",
       "      <td>67</td>\n",
       "      <td>163</td>\n",
       "      <td>129</td>\n",
       "      <td>0.761364</td>\n",
       "      <td>0.826667</td>\n",
       "    </tr>\n",
       "    <tr>\n",
       "      <th>...</th>\n",
       "      <td>...</td>\n",
       "      <td>...</td>\n",
       "      <td>...</td>\n",
       "      <td>...</td>\n",
       "      <td>...</td>\n",
       "      <td>...</td>\n",
       "      <td>...</td>\n",
       "      <td>...</td>\n",
       "      <td>...</td>\n",
       "      <td>...</td>\n",
       "      <td>...</td>\n",
       "    </tr>\n",
       "    <tr>\n",
       "      <th>931</th>\n",
       "      <td>1687</td>\n",
       "      <td>Yi</td>\n",
       "      <td>NJN</td>\n",
       "      <td>54</td>\n",
       "      <td>79</td>\n",
       "      <td>44</td>\n",
       "      <td>59</td>\n",
       "      <td>133</td>\n",
       "      <td>103</td>\n",
       "      <td>0.746835</td>\n",
       "      <td>0.814815</td>\n",
       "    </tr>\n",
       "    <tr>\n",
       "      <th>932</th>\n",
       "      <td>1688</td>\n",
       "      <td>Yi</td>\n",
       "      <td>WAS</td>\n",
       "      <td>55</td>\n",
       "      <td>36</td>\n",
       "      <td>38</td>\n",
       "      <td>24</td>\n",
       "      <td>91</td>\n",
       "      <td>62</td>\n",
       "      <td>0.666667</td>\n",
       "      <td>0.690909</td>\n",
       "    </tr>\n",
       "    <tr>\n",
       "      <th>933</th>\n",
       "      <td>1690</td>\n",
       "      <td>Young</td>\n",
       "      <td>MEM</td>\n",
       "      <td>163</td>\n",
       "      <td>155</td>\n",
       "      <td>130</td>\n",
       "      <td>114</td>\n",
       "      <td>318</td>\n",
       "      <td>244</td>\n",
       "      <td>0.735484</td>\n",
       "      <td>0.797546</td>\n",
       "    </tr>\n",
       "    <tr>\n",
       "      <th>934</th>\n",
       "      <td>1691</td>\n",
       "      <td>Young</td>\n",
       "      <td>PHI</td>\n",
       "      <td>406</td>\n",
       "      <td>401</td>\n",
       "      <td>302</td>\n",
       "      <td>285</td>\n",
       "      <td>807</td>\n",
       "      <td>587</td>\n",
       "      <td>0.710723</td>\n",
       "      <td>0.743842</td>\n",
       "    </tr>\n",
       "    <tr>\n",
       "      <th>935</th>\n",
       "      <td>1692</td>\n",
       "      <td>Young</td>\n",
       "      <td>WAS</td>\n",
       "      <td>408</td>\n",
       "      <td>397</td>\n",
       "      <td>339</td>\n",
       "      <td>327</td>\n",
       "      <td>805</td>\n",
       "      <td>666</td>\n",
       "      <td>0.823678</td>\n",
       "      <td>0.830882</td>\n",
       "    </tr>\n",
       "  </tbody>\n",
       "</table>\n",
       "<p>936 rows × 11 columns</p>\n",
       "</div>"
      ],
      "text/plain": [
       "     Unnamed: 0       player team  atm_away  atm_home  score_away  score_home  \\\n",
       "0             7   A. Johnson  ATL        30        34          24          28   \n",
       "1            10   A. Johnson  TOR        63        57          44          38   \n",
       "2            15  Abdur-Rahim  SAC       114       124          84          90   \n",
       "3            22      Afflalo  DEN       236       284         189         227   \n",
       "4            23      Afflalo  DET        75        88          62          67   \n",
       "..          ...          ...  ...       ...       ...         ...         ...   \n",
       "931        1687           Yi  NJN        54        79          44          59   \n",
       "932        1688           Yi  WAS        55        36          38          24   \n",
       "933        1690        Young  MEM       163       155         130         114   \n",
       "934        1691        Young  PHI       406       401         302         285   \n",
       "935        1692        Young  WAS       408       397         339         327   \n",
       "\n",
       "     atm_total  score_total  percent_home  percent_away  \n",
       "0           64           52      0.823529      0.800000  \n",
       "1          120           82      0.666667      0.698413  \n",
       "2          238          174      0.725806      0.736842  \n",
       "3          520          416      0.799296      0.800847  \n",
       "4          163          129      0.761364      0.826667  \n",
       "..         ...          ...           ...           ...  \n",
       "931        133          103      0.746835      0.814815  \n",
       "932         91           62      0.666667      0.690909  \n",
       "933        318          244      0.735484      0.797546  \n",
       "934        807          587      0.710723      0.743842  \n",
       "935        805          666      0.823678      0.830882  \n",
       "\n",
       "[936 rows x 11 columns]"
      ]
     },
     "execution_count": 4,
     "metadata": {},
     "output_type": "execute_result"
    }
   ],
   "source": [
    "data['percent_home'] = data['score_home'] / data['atm_home']\n",
    "data['percent_away'] = data['score_away'] / data['atm_away']\n",
    "data"
   ]
  },
  {
   "cell_type": "markdown",
   "metadata": {},
   "source": [
    "Нарисуем плотности вероятности"
   ]
  },
  {
   "cell_type": "code",
   "execution_count": 5,
   "metadata": {},
   "outputs": [
    {
     "data": {
      "text/plain": [
       "<AxesSubplot:xlabel='percent_away', ylabel='Density'>"
      ]
     },
     "execution_count": 5,
     "metadata": {},
     "output_type": "execute_result"
    },
    {
     "data": {
      "image/png": "[encoded data removed]",
      "text/plain": [
       "<Figure size 432x288 with 1 Axes>"
      ]
     },
     "metadata": {
      "needs_background": "light"
     },
     "output_type": "display_data"
    }
   ],
   "source": [
    "sns.kdeplot(data['percent_away'])\n",
    "sns.kdeplot(data['percent_home'])"
   ]
  },
  {
   "cell_type": "markdown",
   "metadata": {},
   "source": [
    "Видим, что данные похожи на нормальные, проверим это по критериям и qq-plot"
   ]
  },
  {
   "cell_type": "code",
   "execution_count": 10,
   "metadata": {},
   "outputs": [
    {
     "data": {
      "text/plain": [
       "(0.0, 1.4541871167582485e-15)"
      ]
     },
     "execution_count": 10,
     "metadata": {},
     "output_type": "execute_result"
    }
   ],
   "source": [
    "st.jarque_bera(data['percent_away'])[1], st.shapiro(data['percent_away'])[1]"
   ]
  },
  {
   "cell_type": "code",
   "execution_count": 11,
   "metadata": {},
   "outputs": [
    {
     "data": {
      "image/png": "[encoded data removed]",
      "text/plain": [
       "<Figure size 432x288 with 1 Axes>"
      ]
     },
     "metadata": {
      "needs_background": "light"
     },
     "output_type": "display_data"
    }
   ],
   "source": [
    "st.probplot(data['percent_away'], plot=plt)\n",
    "plt.show()"
   ]
  },
  {
   "cell_type": "markdown",
   "metadata": {},
   "source": [
    "Критерии отвергают гипотезу нормальности, на qq-plot точки не очень хорошо ложатся на прямую, поэтому лучше не стоит доверять критерию Стьюдента для связанных выборок"
   ]
  },
  {
   "cell_type": "code",
   "execution_count": 7,
   "metadata": {},
   "outputs": [
    {
     "data": {
      "text/plain": [
       "Ttest_relResult(statistic=-1.3333111977331342, pvalue=0.18275444509432728)"
      ]
     },
     "execution_count": 7,
     "metadata": {},
     "output_type": "execute_result"
    }
   ],
   "source": [
    "st.ttest_rel(data['percent_away'], data['percent_home'], alternative='two-sided')"
   ]
  },
  {
   "cell_type": "markdown",
   "metadata": {},
   "source": [
    "Перестановочный критерий использовать можно, так как он для него все требования удовлетворены"
   ]
  },
  {
   "cell_type": "code",
   "execution_count": 6,
   "metadata": {},
   "outputs": [
    {
     "data": {
      "text/plain": [
       "0.5354645354645355"
      ]
     },
     "execution_count": 6,
     "metadata": {},
     "output_type": "execute_result"
    }
   ],
   "source": [
    "two_sample(data['percent_away'], data['percent_home'], reps=1000, alternative='two-sided')[0]"
   ]
  },
  {
   "cell_type": "markdown",
   "metadata": {},
   "source": [
    "Как видим, гипотеза о равенстве средних не отклоняется.\n",
    "\n",
    "А теперь посмотрим, для многих ли игроков разница существенна. Для этого построим гистограмму для разности процентов реализации в гостях и дома."
   ]
  },
  {
   "cell_type": "code",
   "execution_count": 10,
   "metadata": {},
   "outputs": [
    {
     "data": {
      "image/png": "[encoded data removed]",
      "text/plain": [
       "<Figure size 432x288 with 1 Axes>"
      ]
     },
     "metadata": {
      "needs_background": "light"
     },
     "output_type": "display_data"
    }
   ],
   "source": [
    "plt.hist(data['percent_away'] - data['percent_home'], bins=50)\n",
    "plt.show()"
   ]
  },
  {
   "cell_type": "markdown",
   "metadata": {},
   "source": [
    "Как видим, примерно одинаковое количество игроков с лучшей домашней и гостевой реализацией. Посчитаем, для какого процента игроков эта разница существенна  (больше 0.1 по модулю)."
   ]
  },
  {
   "cell_type": "code",
   "execution_count": 12,
   "metadata": {},
   "outputs": [
    {
     "data": {
      "text/plain": [
       "0.172008547008547"
      ]
     },
     "execution_count": 12,
     "metadata": {},
     "output_type": "execute_result"
    }
   ],
   "source": [
    "len([i for i in range(len(data)) if abs(data.loc[i]['percent_away'] - data.loc[i]['percent_home']) > 0.1]) / len(data)"
   ]
  },
  {
   "cell_type": "markdown",
   "metadata": {},
   "source": [
    "Примерно у 17% игроков разница в домашней и гостевой реализации не менее 10%"
   ]
  },
  {
   "cell_type": "code",
   "execution_count": null,
   "metadata": {},
   "outputs": [],
   "source": []
  }
 ],
 "metadata": {
  "kernelspec": {
   "display_name": "Python 3",
   "language": "python",
   "name": "python3"
  },
  "language_info": {
   "codemirror_mode": {
    "name": "ipython",
    "version": 3
   },
   "file_extension": ".py",
   "mimetype": "text/x-python",
   "name": "python",
   "nbconvert_exporter": "python",
   "pygments_lexer": "ipython3",
   "version": "3.8.3"
  }
 },
 "nbformat": 4,
 "nbformat_minor": 4
}
