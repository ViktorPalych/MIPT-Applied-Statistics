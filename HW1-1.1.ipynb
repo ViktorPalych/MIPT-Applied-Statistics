{
 "cells": [
  {
   "cell_type": "code",
   "execution_count": 1,
   "metadata": {
    "id": "kq_gRISDRJAo"
   },
   "outputs": [],
   "source": [
    "import numpy as np\n",
    "import pandas as pd\n",
    "import scipy.stats as st\n",
    "import seaborn as sns\n",
    "import matplotlib.pyplot as plt\n",
    "\n",
    "from statsmodels.stats.diagnostic import kstest_normal\n",
    "from statsmodels.stats.weightstats import ttest_ind\n",
    "from statsmodels.stats.weightstats import ztest\n",
    "from statsmodels.stats.proportion import binom_test\n",
    "from statsmodels.stats.proportion import proportion_confint\n",
    "from statsmodels.stats.proportion import binom_test, proportions_ztest, proportions_chisquare\n",
    "from statsmodels.distributions.empirical_distribution import ECDF"
   ]
  },
  {
   "cell_type": "markdown",
   "metadata": {
    "id": "HOWYTaVEbbHi"
   },
   "source": [
    "### Консервативность"
   ]
  },
  {
   "cell_type": "markdown",
   "metadata": {
    "id": "CgOyENiKbwmy"
   },
   "source": [
    "Проверим консервативность критериев, сгенерировав много выборок из нормального распределения."
   ]
  },
  {
   "cell_type": "code",
   "execution_count": 15,
   "metadata": {
    "id": "qtT8GYDpVDKj"
   },
   "outputs": [],
   "source": [
    "Ks = []\n",
    "Jb = []\n",
    "Sh = []\n",
    "n = 200\n",
    "for i in range(10000):\n",
    "    X = np.random.randn(n)\n",
    "    Ks.append(kstest_normal(X, dist='norm', pvalmethod='approx')[1])\n",
    "    Jb.append(st.jarque_bera(X)[1])\n",
    "    Sh.append(st.shapiro(X)[1])"
   ]
  },
  {
   "cell_type": "code",
   "execution_count": 24,
   "metadata": {},
   "outputs": [
    {
     "data": {
      "text/plain": [
       "10000"
      ]
     },
     "execution_count": 24,
     "metadata": {},
     "output_type": "execute_result"
    }
   ],
   "source": [
    "len(Ks)"
   ]
  },
  {
   "cell_type": "markdown",
   "metadata": {
    "id": "qL6u0-bPb7IB"
   },
   "source": [
    "Критерий Лилиефорса"
   ]
  },
  {
   "cell_type": "code",
   "execution_count": 25,
   "metadata": {},
   "outputs": [
    {
     "data": {
      "text/plain": [
       "0.9446"
      ]
     },
     "execution_count": 25,
     "metadata": {},
     "output_type": "execute_result"
    }
   ],
   "source": [
    "len([k for k in Ks if k > 0.05]) / len(Ks)"
   ]
  },
  {
   "cell_type": "markdown",
   "metadata": {
    "id": "tUaHD303b_qg"
   },
   "source": [
    "Критерий Харке-Бера"
   ]
  },
  {
   "cell_type": "code",
   "execution_count": 26,
   "metadata": {},
   "outputs": [
    {
     "data": {
      "text/plain": [
       "0.9538"
      ]
     },
     "execution_count": 26,
     "metadata": {},
     "output_type": "execute_result"
    }
   ],
   "source": [
    "len([k for k in Jb if k > 0.05]) / len(Jb)"
   ]
  },
  {
   "cell_type": "markdown",
   "metadata": {
    "id": "cfcLh-4gcCID"
   },
   "source": [
    "Критерий Шапиро-Уилка"
   ]
  },
  {
   "cell_type": "code",
   "execution_count": 27,
   "metadata": {
    "colab": {
     "base_uri": "https://localhost:8080/"
    },
    "id": "bVgsl1PwaZ0M",
    "outputId": "ebf583f5-1786-4416-b160-56f1eb21b731"
   },
   "outputs": [
    {
     "data": {
      "text/plain": [
       "0.9464"
      ]
     },
     "execution_count": 27,
     "metadata": {},
     "output_type": "execute_result"
    }
   ],
   "source": [
    "len([k for k in Sh if k > 0.05]) / len(Sh)"
   ]
  },
  {
   "cell_type": "code",
   "execution_count": 28,
   "metadata": {},
   "outputs": [],
   "source": [
    "Ks = []\n",
    "Jb = []\n",
    "Sh = []\n",
    "n = 20\n",
    "for i in range(10000):\n",
    "    X = np.random.randn(n)\n",
    "    Ks.append(kstest_normal(X, dist='norm', pvalmethod='approx')[1])\n",
    "    Jb.append(st.jarque_bera(X)[1])\n",
    "    Sh.append(st.shapiro(X)[1])"
   ]
  },
  {
   "cell_type": "markdown",
   "metadata": {},
   "source": [
    "Лилиефорс"
   ]
  },
  {
   "cell_type": "code",
   "execution_count": 29,
   "metadata": {},
   "outputs": [
    {
     "data": {
      "text/plain": [
       "0.948"
      ]
     },
     "execution_count": 29,
     "metadata": {},
     "output_type": "execute_result"
    }
   ],
   "source": [
    "len([k for k in Ks if k > 0.05]) / len(Ks)"
   ]
  },
  {
   "cell_type": "markdown",
   "metadata": {},
   "source": [
    "Харке-Бера"
   ]
  },
  {
   "cell_type": "code",
   "execution_count": 31,
   "metadata": {},
   "outputs": [
    {
     "data": {
      "text/plain": [
       "0.9744"
      ]
     },
     "execution_count": 31,
     "metadata": {},
     "output_type": "execute_result"
    }
   ],
   "source": [
    "len([k for k in Jb if k > 0.05]) / len(Jb)"
   ]
  },
  {
   "cell_type": "markdown",
   "metadata": {},
   "source": [
    "Шапиро-Уилка"
   ]
  },
  {
   "cell_type": "code",
   "execution_count": 32,
   "metadata": {},
   "outputs": [
    {
     "data": {
      "text/plain": [
       "0.9476"
      ]
     },
     "execution_count": 32,
     "metadata": {},
     "output_type": "execute_result"
    }
   ],
   "source": [
    "len([k for k in Sh if k > 0.05]) / len(Sh)"
   ]
  },
  {
   "cell_type": "markdown",
   "metadata": {},
   "source": [
    "Видим, что доля верно опознанных распределений из нормальных близка к 95%. То есть, критерии консервативны с хорошей точностью."
   ]
  },
  {
   "cell_type": "markdown",
   "metadata": {},
   "source": [
    "## Мощность\n",
    "\n",
    "А теперь исследуем их на мощность"
   ]
  },
  {
   "cell_type": "markdown",
   "metadata": {
    "id": "trWrVid6bhl-"
   },
   "source": [
    "### Выборка из распределения Лапласа"
   ]
  },
  {
   "cell_type": "markdown",
   "metadata": {
    "id": "ntbWGb7yecMV"
   },
   "source": [
    "Распределение Лапласа"
   ]
  },
  {
   "cell_type": "code",
   "execution_count": 84,
   "metadata": {
    "colab": {
     "base_uri": "https://localhost:8080/",
     "height": 281
    },
    "id": "3ygqs-Zean8l",
    "outputId": "0c6c5c6c-c525-46b5-aaa8-9e06b3ed19c0"
   },
   "outputs": [
    {
     "data": {
      "image/png": "[encoded data removed]",
      "text/plain": [
       "<Figure size 432x288 with 1 Axes>"
      ]
     },
     "metadata": {
      "needs_background": "light"
     },
     "output_type": "display_data"
    }
   ],
   "source": [
    "def laplace_function(x,beta):\n",
    "    result = (1/(2*beta)) * np.e**(-1*(np.abs(x)/beta))\n",
    "    return result\n",
    "\n",
    "x = np.linspace(-5,5,10000)\n",
    "y1 = [laplace_function(x_,0.5) for x_ in x]\n",
    "y2 = [laplace_function(x_,1) for x_ in x]\n",
    "y3 = [laplace_function(x_,3) for x_ in x]\n",
    " \n",
    " \n",
    "plt.plot(x,y1,color='r',label='beta = 0.5')\n",
    "plt.plot(x,y2,color='g',label='beta = 1')\n",
    "plt.plot(x,y3,color='b',label='beta = 3')\n",
    "plt.title(\"Распределение Лапласа\")\n",
    "plt.legend()\n",
    "plt.show()"
   ]
  },
  {
   "cell_type": "markdown",
   "metadata": {
    "id": "43vm5b50eWjl"
   },
   "source": [
    "**Теперь вычислим мощность критериев**"
   ]
  },
  {
   "cell_type": "code",
   "execution_count": 40,
   "metadata": {
    "id": "bqosGcLVdKVS"
   },
   "outputs": [],
   "source": [
    "Ks = []\n",
    "Jb = []\n",
    "Sh = []\n",
    "n = 20\n",
    "for i in range(10000):\n",
    "    X = st.laplace.rvs(size = n)\n",
    "    Ks.append(kstest_normal(X, dist='norm', pvalmethod='approx')[1])\n",
    "    Jb.append(st.jarque_bera(X)[1])\n",
    "    Sh.append(st.shapiro(X)[1])"
   ]
  },
  {
   "cell_type": "markdown",
   "metadata": {},
   "source": [
    "Лилиефорс"
   ]
  },
  {
   "cell_type": "code",
   "execution_count": 41,
   "metadata": {},
   "outputs": [
    {
     "data": {
      "text/plain": [
       "0.2155"
      ]
     },
     "execution_count": 41,
     "metadata": {},
     "output_type": "execute_result"
    }
   ],
   "source": [
    "len([k for k in Ks if k < 0.05]) / len(Ks)"
   ]
  },
  {
   "cell_type": "markdown",
   "metadata": {},
   "source": [
    "Харке-Бера"
   ]
  },
  {
   "cell_type": "code",
   "execution_count": 42,
   "metadata": {},
   "outputs": [
    {
     "data": {
      "text/plain": [
       "0.2197"
      ]
     },
     "execution_count": 42,
     "metadata": {},
     "output_type": "execute_result"
    }
   ],
   "source": [
    "len([k for k in Jb if k < 0.05]) / len(Jb)"
   ]
  },
  {
   "cell_type": "markdown",
   "metadata": {},
   "source": [
    "Шапиро-Уилка"
   ]
  },
  {
   "cell_type": "code",
   "execution_count": 43,
   "metadata": {},
   "outputs": [
    {
     "data": {
      "text/plain": [
       "0.2629"
      ]
     },
     "execution_count": 43,
     "metadata": {},
     "output_type": "execute_result"
    }
   ],
   "source": [
    "len([k for k in Sh if k < 0.05]) / len(Sh)"
   ]
  },
  {
   "cell_type": "code",
   "execution_count": 44,
   "metadata": {},
   "outputs": [],
   "source": [
    "Ks = []\n",
    "Jb = []\n",
    "Sh = []\n",
    "n = 200\n",
    "for i in range(10000):\n",
    "    X = st.laplace.rvs(size = n)\n",
    "    Ks.append(kstest_normal(X, dist='norm', pvalmethod='approx')[1])\n",
    "    Jb.append(st.jarque_bera(X)[1])\n",
    "    Sh.append(st.shapiro(X)[1])"
   ]
  },
  {
   "cell_type": "markdown",
   "metadata": {},
   "source": [
    "Лилиефорс"
   ]
  },
  {
   "cell_type": "code",
   "execution_count": 48,
   "metadata": {},
   "outputs": [
    {
     "data": {
      "text/plain": [
       "0.9443"
      ]
     },
     "execution_count": 48,
     "metadata": {},
     "output_type": "execute_result"
    }
   ],
   "source": [
    "len([k for k in Ks if k < 0.05]) / len(Ks)"
   ]
  },
  {
   "cell_type": "markdown",
   "metadata": {},
   "source": [
    "Харке-Бера"
   ]
  },
  {
   "cell_type": "code",
   "execution_count": 46,
   "metadata": {},
   "outputs": [
    {
     "data": {
      "text/plain": [
       "0.9631"
      ]
     },
     "execution_count": 46,
     "metadata": {},
     "output_type": "execute_result"
    }
   ],
   "source": [
    "len([k for k in Jb if k < 0.05]) / len(Jb)"
   ]
  },
  {
   "cell_type": "markdown",
   "metadata": {},
   "source": [
    "Шапиро-Уилка"
   ]
  },
  {
   "cell_type": "code",
   "execution_count": 47,
   "metadata": {},
   "outputs": [
    {
     "data": {
      "text/plain": [
       "0.9748"
      ]
     },
     "execution_count": 47,
     "metadata": {},
     "output_type": "execute_result"
    }
   ],
   "source": [
    "len([k for k in Sh if k < 0.05]) / len(Sh)"
   ]
  },
  {
   "cell_type": "markdown",
   "metadata": {},
   "source": [
    "На распределении Лапласа критерий Шапиро-Уилка показал мощность чуть больше, чем остальные"
   ]
  },
  {
   "cell_type": "markdown",
   "metadata": {
    "id": "g7NPJ6O2fBcY"
   },
   "source": [
    "### Выборка из распределения Стьюдента"
   ]
  },
  {
   "cell_type": "code",
   "execution_count": 51,
   "metadata": {
    "id": "d8FZvxMfhB6K"
   },
   "outputs": [],
   "source": [
    "k = 5 # Число степеней свободы\n",
    "Ks = []\n",
    "Jb = []\n",
    "Sh = []\n",
    "n = 20\n",
    "for i in range(10000):\n",
    "    X = st.t.rvs(k, size=n)\n",
    "    Ks.append(kstest_normal(X, dist='norm', pvalmethod='approx')[1])\n",
    "    Jb.append(st.jarque_bera(X)[1])\n",
    "    Sh.append(st.shapiro(X)[1])"
   ]
  },
  {
   "cell_type": "markdown",
   "metadata": {},
   "source": [
    "Лилиефорса"
   ]
  },
  {
   "cell_type": "code",
   "execution_count": 53,
   "metadata": {},
   "outputs": [
    {
     "data": {
      "text/plain": [
       "0.1243"
      ]
     },
     "execution_count": 53,
     "metadata": {},
     "output_type": "execute_result"
    }
   ],
   "source": [
    "len([k for k in Ks if k < 0.05]) / len(Ks)"
   ]
  },
  {
   "cell_type": "markdown",
   "metadata": {},
   "source": [
    "Харке-Бера"
   ]
  },
  {
   "cell_type": "code",
   "execution_count": 52,
   "metadata": {},
   "outputs": [
    {
     "data": {
      "text/plain": [
       "0.1558"
      ]
     },
     "execution_count": 52,
     "metadata": {},
     "output_type": "execute_result"
    }
   ],
   "source": [
    "len([k for k in Jb if k < 0.05]) / len(Jb)"
   ]
  },
  {
   "cell_type": "markdown",
   "metadata": {},
   "source": [
    "Шапиро-Уилка"
   ]
  },
  {
   "cell_type": "code",
   "execution_count": 54,
   "metadata": {},
   "outputs": [
    {
     "data": {
      "text/plain": [
       "0.1773"
      ]
     },
     "execution_count": 54,
     "metadata": {},
     "output_type": "execute_result"
    }
   ],
   "source": [
    "len([k for k in Sh if k < 0.05]) / len(Sh)"
   ]
  },
  {
   "cell_type": "code",
   "execution_count": 55,
   "metadata": {},
   "outputs": [],
   "source": [
    "k = 5 # Число степеней свободы\n",
    "Ks = []\n",
    "Jb = []\n",
    "Sh = []\n",
    "n = 200\n",
    "for i in range(10000):\n",
    "    X = st.t.rvs(k, size=n)\n",
    "    Ks.append(kstest_normal(X, dist='norm', pvalmethod='approx')[1])\n",
    "    Jb.append(st.jarque_bera(X)[1])\n",
    "    Sh.append(st.shapiro(X)[1])"
   ]
  },
  {
   "cell_type": "markdown",
   "metadata": {},
   "source": [
    "Лилиефорс"
   ]
  },
  {
   "cell_type": "code",
   "execution_count": 56,
   "metadata": {},
   "outputs": [
    {
     "data": {
      "text/plain": [
       "0.5388"
      ]
     },
     "execution_count": 56,
     "metadata": {},
     "output_type": "execute_result"
    }
   ],
   "source": [
    "len([k for k in Ks if k < 0.05]) / len(Ks)"
   ]
  },
  {
   "cell_type": "markdown",
   "metadata": {},
   "source": [
    "Харке-Бера"
   ]
  },
  {
   "cell_type": "code",
   "execution_count": 58,
   "metadata": {},
   "outputs": [
    {
     "data": {
      "text/plain": [
       "0.8623"
      ]
     },
     "execution_count": 58,
     "metadata": {},
     "output_type": "execute_result"
    }
   ],
   "source": [
    "len([k for k in Jb if k < 0.05]) / len(Jb)"
   ]
  },
  {
   "cell_type": "markdown",
   "metadata": {},
   "source": [
    "Шапиро-Уилка"
   ]
  },
  {
   "cell_type": "code",
   "execution_count": 57,
   "metadata": {},
   "outputs": [
    {
     "data": {
      "text/plain": [
       "0.8162"
      ]
     },
     "execution_count": 57,
     "metadata": {},
     "output_type": "execute_result"
    }
   ],
   "source": [
    "len([k for k in Sh if k < 0.05]) / len(Sh)"
   ]
  },
  {
   "cell_type": "markdown",
   "metadata": {},
   "source": [
    "Здесь критерий Лилиефорса показал себя менее мощным."
   ]
  },
  {
   "cell_type": "markdown",
   "metadata": {
    "id": "jXPCZj3bhiU5"
   },
   "source": [
    "### Усечённое нормальное"
   ]
  },
  {
   "cell_type": "code",
   "execution_count": 59,
   "metadata": {},
   "outputs": [],
   "source": [
    "Ks = []\n",
    "Jb = []\n",
    "Sh = []\n",
    "n = 200\n",
    "for i in range(10000):\n",
    "    X = st.truncnorm(a=-2/3., b=2/3., scale=3).rvs(size=n)\n",
    "    Ks.append(kstest_normal(X, dist='norm', pvalmethod='approx')[1])\n",
    "    Jb.append(st.jarque_bera(X)[1])\n",
    "    Sh.append(st.shapiro(X)[1])"
   ]
  },
  {
   "cell_type": "markdown",
   "metadata": {},
   "source": [
    "Лилиефорс"
   ]
  },
  {
   "cell_type": "code",
   "execution_count": 60,
   "metadata": {},
   "outputs": [
    {
     "data": {
      "text/plain": [
       "0.867"
      ]
     },
     "execution_count": 60,
     "metadata": {},
     "output_type": "execute_result"
    }
   ],
   "source": [
    "len([k for k in Ks if k < 0.05]) / len(Sh)"
   ]
  },
  {
   "cell_type": "markdown",
   "metadata": {},
   "source": [
    "Харке-Бера"
   ]
  },
  {
   "cell_type": "code",
   "execution_count": 61,
   "metadata": {},
   "outputs": [
    {
     "data": {
      "text/plain": [
       "0.9991"
      ]
     },
     "execution_count": 61,
     "metadata": {},
     "output_type": "execute_result"
    }
   ],
   "source": [
    "len([k for k in Jb if k < 0.05]) / len(Sh)"
   ]
  },
  {
   "cell_type": "markdown",
   "metadata": {},
   "source": [
    "Шапиро-Уилка"
   ]
  },
  {
   "cell_type": "code",
   "execution_count": 62,
   "metadata": {},
   "outputs": [
    {
     "data": {
      "text/plain": [
       "1.0"
      ]
     },
     "execution_count": 62,
     "metadata": {},
     "output_type": "execute_result"
    }
   ],
   "source": [
    "len([k for k in Sh if k < 0.05]) / len(Sh)"
   ]
  },
  {
   "cell_type": "code",
   "execution_count": null,
   "metadata": {},
   "outputs": [],
   "source": []
  }
 ],
 "metadata": {
  "colab": {
   "name": "Task 1.1",
   "provenance": []
  },
  "kernelspec": {
   "display_name": "Python 3",
   "language": "python",
   "name": "python3"
  },
  "language_info": {
   "codemirror_mode": {
    "name": "ipython",
    "version": 3
   },
   "file_extension": ".py",
   "mimetype": "text/x-python",
   "name": "python",
   "nbconvert_exporter": "python",
   "pygments_lexer": "ipython3",
   "version": "3.8.3"
  }
 },
 "nbformat": 4,
 "nbformat_minor": 1
}
