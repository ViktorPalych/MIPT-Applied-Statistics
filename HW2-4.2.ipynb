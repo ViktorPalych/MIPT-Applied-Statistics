{
 "cells": [
  {
   "cell_type": "markdown",
   "metadata": {},
   "source": [
    "### Обозначения\n",
    "\n",
    "Пусть $n$ -- длина последовательности слов. Также для удобства номер слова в последовательности будем обозначать нижним индексом $w_i, \\ 1 \\leq i \\leq n$, а номер слова в словаре верхним $w^k,\\ 1 \\leq k \\leq d$.\n",
    "\n",
    "# Решение\n",
    "\n",
    "Функция правдоподобия последовательности:\n",
    "\n",
    "$$\\mathcal{L}(w_1, \\dots, w_n) = \\pi_{w_1} \\prod_{i=2}^n p(w_i | w_{i-1})$$\n",
    "\n",
    "Где $\\pi_{w_1}$ -- вероятность, с которой слово $w_1$ может слоять в начале."
   ]
  },
  {
   "cell_type": "markdown",
   "metadata": {},
   "source": [
    "## Пункт 1\n",
    "\n",
    "Все переходы равномероятны: $\\forall k, m\\ p(w_k, w_m) = \\frac{1}{d}$. Поэтому  $\\pi = \\left(\\frac{1}{d}, \\dots, \\frac{1}{d} \\right)$. Подставив в формулу, получим \n",
    "\n",
    "$$\\mathcal{L}(w_1, \\dots, w_n) = \\frac{1}{d^n}$$"
   ]
  },
  {
   "cell_type": "markdown",
   "metadata": {},
   "source": [
    "## Пункт 2\n",
    "\n",
    "По условию сказано, что $p(w_i | w_{i-1}) = f_{Dir(\\mu(w_{i-1}))}(x_1, \\dots, x_d)$, где \n",
    "\n",
    "- $f_{Dir(\\mu(w_{i-1}))}$ -- функция плотности распределения Дирихле с параметрами $\\mu(w_{i-1}) = (e^{-|1-m|}, \\dots, e^{-|d-m|})$, здесь $m$ это номер слова $w_{i-1}$ в словаре ($w_{i-1} = w^k$). Далее для удобства будем писать $\\mu(m)$.\n",
    "\n",
    "- (x_1, \\dots, x_d) -- вектор, в котором $x_k = 1-d\\varepsilon$, а для остальных $i \\neq k$ имеем $ x_i = \\varepsilon $. Здесь $k$ -- номер слова $w_i$ в словаре.\n",
    "\n",
    "Но  сумма вероятностей по всем переходам из слова $w^m$ должна быть равна 1. Однако, если мы посчитаем эту сумму, то получим\n",
    "\n",
    "$$\\frac{1}{B(\\mu(m))} \\sum_{k=1}^d \\left( \\prod_{i=1,\\ i \\neq k}^d\\varepsilon^{e^{-|i-m|} - 1}(1-d\\varepsilon)^{e^{-|k-m|} - 1}  \\right)$$\n",
    "\n",
    "Здесь $B(\\mu(m))$ -- многомерная бета-функция.\n",
    "\n",
    "И эта вся радость не обязательно равна 1. Поэтому нужно ввести нормировочный коэффициент, который зависит от $m$. Такой что\n",
    "\n",
    "$$\\frac{C(m)}{B(\\mu(m))} \\sum_{k=1}^d \\left( \\prod_{i=1,\\ i \\neq k}^d\\varepsilon^{e^{-|i-m|} - 1}(1-d\\varepsilon)^{e^{-|k-m|} - 1}  \\right) = 1$$\n",
    "\n",
    "Тогда получим \n",
    "\n",
    "$$p(w^k | w^m) = \\frac{C(m)}{B(\\mu(m))}  \\prod_{i=1,\\ i \\neq k}^d\\varepsilon^{e^{-|i-m|} - 1}(1-d\\varepsilon)^{e^{-|k-m|} - 1}  $$\n",
    "\n",
    "Для этой задачи разрешили взять $\\pi = \\left(\\frac{1}{d}, \\dots, \\frac{1}{d} \\right)$. \n",
    "\n",
    "Теперь давайте запишем итоговую формулу. Но сначала ещё одно обозначение: $k_i$ это номер слова $w_i$ в словаре. Теперь запишем ответ:\n",
    "\n",
    "$$\\mathcal{L}(w_1, \\dots, w_n)  = \\frac{1}{d}\\prod_{i=2}^n \\left( \\frac{C(k_{i-1})}{B(\\mu(k_{i-1}))}  \\prod_{i=1,\\ i \\neq k_i}^d\\varepsilon^{e^{-|i-k_{i-1}|} - 1}(1-d\\varepsilon)^{e^{-|k_i-k_{i-1}|} - 1}  \\right)$$"
   ]
  },
  {
   "cell_type": "code",
   "execution_count": null,
   "metadata": {},
   "outputs": [],
   "source": []
  }
 ],
 "metadata": {
  "kernelspec": {
   "display_name": "Python 3",
   "language": "python",
   "name": "python3"
  },
  "language_info": {
   "codemirror_mode": {
    "name": "ipython",
    "version": 3
   },
   "file_extension": ".py",
   "mimetype": "text/x-python",
   "name": "python",
   "nbconvert_exporter": "python",
   "pygments_lexer": "ipython3",
   "version": "3.8.3"
  }
 },
 "nbformat": 4,
 "nbformat_minor": 4
}
